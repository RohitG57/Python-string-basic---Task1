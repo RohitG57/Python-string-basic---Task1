{
 "cells": [
  {
   "cell_type": "code",
   "execution_count": 1,
   "id": "90392d02",
   "metadata": {},
   "outputs": [],
   "source": [
    "# s = \"this is My First Python programming class and i am learNING python string and its function\"\n",
    "# 1. Try to extract data from index one to index 300 with a jump of 3 \n",
    "# 2. Try to reverse a string without using reverse function \n",
    "# 3. Try to split a string after conversion of entire string in uppercase \n",
    "# 4. try to convert the whole string into lower case \n",
    "# 5. Try to capitalize the whole string \n",
    "# 6. Write a diference between isalnum() and isalpha()\n",
    "# 7. Try to give an example of expand tab\n",
    "# 8. Give an example of strip , lstrip and rstrip \n",
    "# 9. Replace a string charecter by another charector by taking your own example \n",
    "# 10. Try  to give a defination of string center function with and exmple \n",
    "# 11. Write your own definition of compiler and interpretor without copy paste form internet in your own language\n",
    "# 12. Python is a interpreted of compiled language give a clear ans with your understanding \n",
    "# 13. Try to write a usecase of python with your understanding ."
   ]
  },
  {
   "cell_type": "code",
   "execution_count": 2,
   "id": "58fd166a",
   "metadata": {},
   "outputs": [],
   "source": [
    "s = \"This is my first programming class and i am learning python string and its function.\""
   ]
  },
  {
   "cell_type": "code",
   "execution_count": 3,
   "id": "f5d1b075",
   "metadata": {},
   "outputs": [],
   "source": [
    "# 1. Try to extract data from index 1 to index 300 with jump of 3."
   ]
  },
  {
   "cell_type": "code",
   "execution_count": 4,
   "id": "92277a9b",
   "metadata": {},
   "outputs": [
    {
     "data": {
      "text/plain": [
       "'Tssyitrrmglsnimengyosi dtfco'"
      ]
     },
     "execution_count": 4,
     "metadata": {},
     "output_type": "execute_result"
    }
   ],
   "source": [
    "s[0:300:3]"
   ]
  },
  {
   "cell_type": "code",
   "execution_count": 5,
   "id": "1ce0f10c",
   "metadata": {},
   "outputs": [],
   "source": [
    "# 2. Try to reverse a string without using reverse function."
   ]
  },
  {
   "cell_type": "code",
   "execution_count": 6,
   "id": "6c53d3ac",
   "metadata": {},
   "outputs": [
    {
     "data": {
      "text/plain": [
       "'.noitcnuf sti dna gnirts nohtyp gninrael ma i dna ssalc gnimmargorp tsrif ym si sihT'"
      ]
     },
     "execution_count": 6,
     "metadata": {},
     "output_type": "execute_result"
    }
   ],
   "source": [
    "s[::-1]"
   ]
  },
  {
   "cell_type": "code",
   "execution_count": 7,
   "id": "d74cdc4b",
   "metadata": {},
   "outputs": [
    {
     "data": {
      "text/plain": [
       "'.noitcnuf sti dna gnirts nohtyp gninrael ma i dna ssalc gnimmargorp tsrif ym si sihT'"
      ]
     },
     "execution_count": 7,
     "metadata": {},
     "output_type": "execute_result"
    }
   ],
   "source": [
    "\"\".join(reversed(s))"
   ]
  },
  {
   "cell_type": "code",
   "execution_count": 8,
   "id": "d56f959f",
   "metadata": {},
   "outputs": [],
   "source": [
    "# 3. Try to split string after conversion of entire string in uppercase."
   ]
  },
  {
   "cell_type": "code",
   "execution_count": 9,
   "id": "2b6f4b17",
   "metadata": {},
   "outputs": [
    {
     "data": {
      "text/plain": [
       "'THIS IS MY FIRST PROGRAMMING CLASS AND I AM LEARNING PYTHON STRING AND ITS FUNCTION.'"
      ]
     },
     "execution_count": 9,
     "metadata": {},
     "output_type": "execute_result"
    }
   ],
   "source": [
    "s.upper()"
   ]
  },
  {
   "cell_type": "code",
   "execution_count": 10,
   "id": "63a74118",
   "metadata": {},
   "outputs": [
    {
     "data": {
      "text/plain": [
       "['This',\n",
       " 'is',\n",
       " 'my',\n",
       " 'first',\n",
       " 'programming',\n",
       " 'class',\n",
       " 'and',\n",
       " 'i',\n",
       " 'am',\n",
       " 'learning',\n",
       " 'python',\n",
       " 'string',\n",
       " 'and',\n",
       " 'its',\n",
       " 'function.']"
      ]
     },
     "execution_count": 10,
     "metadata": {},
     "output_type": "execute_result"
    }
   ],
   "source": [
    "s.split()"
   ]
  },
  {
   "cell_type": "code",
   "execution_count": 11,
   "id": "8fabf3e3",
   "metadata": {},
   "outputs": [],
   "source": [
    "# 4. Convert whole string into lowercase."
   ]
  },
  {
   "cell_type": "code",
   "execution_count": 12,
   "id": "afaba85f",
   "metadata": {},
   "outputs": [
    {
     "data": {
      "text/plain": [
       "'this is my first programming class and i am learning python string and its function.'"
      ]
     },
     "execution_count": 12,
     "metadata": {},
     "output_type": "execute_result"
    }
   ],
   "source": [
    "s.lower()"
   ]
  },
  {
   "cell_type": "code",
   "execution_count": 13,
   "id": "fc9d1e87",
   "metadata": {},
   "outputs": [],
   "source": [
    "# 5. Capitalize whole string."
   ]
  },
  {
   "cell_type": "code",
   "execution_count": 14,
   "id": "a0bfca1f",
   "metadata": {},
   "outputs": [
    {
     "data": {
      "text/plain": [
       "'This is my first programming class and i am learning python string and its function.'"
      ]
     },
     "execution_count": 14,
     "metadata": {},
     "output_type": "execute_result"
    }
   ],
   "source": [
    "s.capitalize()"
   ]
  },
  {
   "cell_type": "code",
   "execution_count": 15,
   "id": "a16465df",
   "metadata": {},
   "outputs": [],
   "source": [
    "# 6. Write diference between isalpha() and isalnum()."
   ]
  },
  {
   "cell_type": "raw",
   "id": "2aa24d1d",
   "metadata": {},
   "source": [
    "Ans.  isalph() checks if string contains only alphabeticals and returns boolian values as true or false.\n",
    "      isalphnum() checks if string contains both alphabets and numbers and returns boolian values as true or false. "
   ]
  },
  {
   "cell_type": "code",
   "execution_count": 16,
   "id": "a34d0dd5",
   "metadata": {},
   "outputs": [],
   "source": [
    "# 7. Try to give an example of expand tab."
   ]
  },
  {
   "cell_type": "code",
   "execution_count": 17,
   "id": "4a0c8856",
   "metadata": {},
   "outputs": [],
   "source": [
    "s1 = \"This\\tis\\tmy\\tfirst\\tprogramming\\tclass\\tand\\ti\\tam\\tlearning\\tpython\\tstring\\tand\\tits\\tfunction.\""
   ]
  },
  {
   "cell_type": "code",
   "execution_count": 18,
   "id": "af339b34",
   "metadata": {},
   "outputs": [
    {
     "data": {
      "text/plain": [
       "'This    is      my      first   programming     class   and     i       am      learning        python  string  and     its     function.'"
      ]
     },
     "execution_count": 18,
     "metadata": {},
     "output_type": "execute_result"
    }
   ],
   "source": [
    "s1.expandtabs()"
   ]
  },
  {
   "cell_type": "code",
   "execution_count": 19,
   "id": "492c2b28",
   "metadata": {},
   "outputs": [],
   "source": [
    "# 8. Give example of lstrip and rstrip "
   ]
  },
  {
   "cell_type": "code",
   "execution_count": 20,
   "id": "f6697841",
   "metadata": {},
   "outputs": [],
   "source": [
    "s2 = \"     ineuron       \""
   ]
  },
  {
   "cell_type": "code",
   "execution_count": 21,
   "id": "0ff56929",
   "metadata": {},
   "outputs": [
    {
     "data": {
      "text/plain": [
       "'ineuron       '"
      ]
     },
     "execution_count": 21,
     "metadata": {},
     "output_type": "execute_result"
    }
   ],
   "source": [
    "s2.lstrip()"
   ]
  },
  {
   "cell_type": "code",
   "execution_count": 22,
   "id": "b2cf557b",
   "metadata": {},
   "outputs": [
    {
     "data": {
      "text/plain": [
       "'     ineuron'"
      ]
     },
     "execution_count": 22,
     "metadata": {},
     "output_type": "execute_result"
    }
   ],
   "source": [
    "s2.rstrip()"
   ]
  },
  {
   "cell_type": "code",
   "execution_count": 23,
   "id": "1a395830",
   "metadata": {},
   "outputs": [
    {
     "data": {
      "text/plain": [
       "'ineuron'"
      ]
     },
     "execution_count": 23,
     "metadata": {},
     "output_type": "execute_result"
    }
   ],
   "source": [
    "s2.strip()"
   ]
  },
  {
   "cell_type": "code",
   "execution_count": 24,
   "id": "1958f143",
   "metadata": {},
   "outputs": [],
   "source": [
    "# 9. Replace string character by another character by taking your own example."
   ]
  },
  {
   "cell_type": "code",
   "execution_count": 25,
   "id": "9ab764a3",
   "metadata": {},
   "outputs": [
    {
     "data": {
      "text/plain": [
       "'This is my first programming class and i am learning python string and its function.'"
      ]
     },
     "execution_count": 25,
     "metadata": {},
     "output_type": "execute_result"
    }
   ],
   "source": [
    "s"
   ]
  },
  {
   "cell_type": "code",
   "execution_count": 26,
   "id": "2e7a1f98",
   "metadata": {},
   "outputs": [
    {
     "data": {
      "text/plain": [
       "'Thos os my forst programmong class and o am learnong python strong and ots functoon.'"
      ]
     },
     "execution_count": 26,
     "metadata": {},
     "output_type": "execute_result"
    }
   ],
   "source": [
    "s.replace(\"i\",\"o\")"
   ]
  },
  {
   "cell_type": "code",
   "execution_count": 27,
   "id": "e05d0e26",
   "metadata": {},
   "outputs": [],
   "source": [
    "# 10. Try to give an defination of string centre fuction with an example."
   ]
  },
  {
   "cell_type": "code",
   "execution_count": 28,
   "id": "ae28f9e1",
   "metadata": {},
   "outputs": [],
   "source": [
    "# Ans.  By using centre fuction we can give clear distance to string from left and right."
   ]
  },
  {
   "cell_type": "code",
   "execution_count": 29,
   "id": "4deb6edd",
   "metadata": {},
   "outputs": [],
   "source": [
    "s3 = \"frog\""
   ]
  },
  {
   "cell_type": "code",
   "execution_count": 30,
   "id": "19849191",
   "metadata": {},
   "outputs": [
    {
     "data": {
      "text/plain": [
       "'********frog********'"
      ]
     },
     "execution_count": 30,
     "metadata": {},
     "output_type": "execute_result"
    }
   ],
   "source": [
    "s3.center(20,\"*\")"
   ]
  },
  {
   "cell_type": "code",
   "execution_count": 31,
   "id": "243da7ae",
   "metadata": {},
   "outputs": [],
   "source": [
    "# 11. Write your own defination compiler and interpretor."
   ]
  },
  {
   "cell_type": "code",
   "execution_count": 32,
   "id": "cbc7daf6",
   "metadata": {},
   "outputs": [],
   "source": [
    "# Ans. We use both compilers and interpreters to convert the language we wrote in to binary language so machine can understand \n",
    "# Interpreter :- Interpreter interpret or translates any progoram line by line which makes it slower. Also, interpreter works on bytecode. For eg. Javascript etc.\n",
    "\n",
    "# Compiler :- Compiler takes the whole program at once and translates it as a whole in machine code which makes it faster than interpreter. Also, after compilation code is converted into machine code. For eg. C,C++, Java etc."
   ]
  },
  {
   "cell_type": "code",
   "execution_count": 33,
   "id": "458eaf04",
   "metadata": {},
   "outputs": [],
   "source": [
    "# 12. Python is a interpreted of compiled language give a clear ans with your understanding "
   ]
  },
  {
   "cell_type": "code",
   "execution_count": 34,
   "id": "cb22016f",
   "metadata": {},
   "outputs": [],
   "source": [
    "# In general it is belived that Python is a interpreter language but in reality neigther it is a compiler language nor a interpreted language.\n",
    "# It works in two layer first the .py file is compliled to an intermediate code of .pyc then the .pyc file is directly interpreted as for final output."
   ]
  },
  {
   "cell_type": "code",
   "execution_count": 35,
   "id": "07c4d915",
   "metadata": {},
   "outputs": [],
   "source": [
    "# 13. Try to write usecase of python with your understanding ."
   ]
  },
  {
   "cell_type": "code",
   "execution_count": 36,
   "id": "6856b0d6",
   "metadata": {},
   "outputs": [],
   "source": [
    "# Python is used for :-\n",
    "# 1. Data Science.\n",
    "# 2. Artificial Intelligence. \n",
    "# 3. Web Scraping. \n",
    "# 4. Web application development.\n",
    "# 5. Game development. \n",
    "# 6. Internet of Things. \n",
    "# 7. Desktop GUI. \n",
    "# 8. Enterprise applications.\n",
    "# 9. Task automation\n",
    "# 10. Machine Learning"
   ]
  }
 ],
 "metadata": {
  "kernelspec": {
   "display_name": "Python 3 (ipykernel)",
   "language": "python",
   "name": "python3"
  },
  "language_info": {
   "codemirror_mode": {
    "name": "ipython",
    "version": 3
   },
   "file_extension": ".py",
   "mimetype": "text/x-python",
   "name": "python",
   "nbconvert_exporter": "python",
   "pygments_lexer": "ipython3",
   "version": "3.9.12"
  }
 },
 "nbformat": 4,
 "nbformat_minor": 5
}
